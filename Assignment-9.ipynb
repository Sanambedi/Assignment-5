{
 "cells": [
  {
   "cell_type": "code",
   "execution_count": 3,
   "id": "2b6f1cf9-c814-4d52-8c81-683ce6dae287",
   "metadata": {},
   "outputs": [
    {
     "name": "stdout",
     "output_type": "stream",
     "text": [
      "Starting the car engine\n",
      "Starting the bike engine\n"
     ]
    },
    {
     "data": {
      "text/plain": [
       "'\\nIn this example, we have an abstract class called Vehicle that defines an abstract method start.\\nWe also have two concrete classes, Car and Bike, that inherit from the Vehicle class and implement the start method.\\nWhen we create an instance of Car or Bike and call the start method, it invokes the corresponding implementation defined in the concrete subclass.\\nThe users of the Car and Bike classes do not need to know about the details of how the engine is started, they just need to know that the start method will do it for them.\\nThis is an example of abstraction in action, as the low-level details of engine starting are hidden from the users.\\n'"
      ]
     },
     "execution_count": 3,
     "metadata": {},
     "output_type": "execute_result"
    }
   ],
   "source": [
    "\"\"\"\n",
    "Abstraction is one of the fundamental concepts in Object-Oriented Programming (OOPs) that focuses on the essential features and behavior of an object,\n",
    "while hiding the unnecessary details from the users. It allows users to work with high-level objects without worrying about the low-level implementation details.\n",
    "\n",
    "Abstraction is achieved through abstract classes and interfaces in OOPs. An abstract class is a class that cannot be instantiated and is designed to serve as a base class\n",
    "for other classes. It contains one or more abstract methods that must be implemented by any concrete subclasses that extend it. An interface, on the other hand,\n",
    "is a collection of abstract methods that defines a contract that any class that implements it must fulfill.\n",
    "\n",
    "Here's an example for that\n",
    "\"\"\"\n",
    "from abc import ABC\n",
    "\n",
    "class Vehicle(ABC):\n",
    "    @abstractmethod\n",
    "    def start(self):\n",
    "        pass\n",
    "\n",
    "class Car(Vehicle):\n",
    "    def start(self):\n",
    "        print(\"Starting the car engine\")\n",
    "\n",
    "class Bike(Vehicle):\n",
    "    def start(self):\n",
    "        print(\"Starting the bike engine\")\n",
    "\n",
    "car = Car()\n",
    "car.start()\n",
    "\n",
    "bike = Bike()\n",
    "bike.start()\n",
    "\"\"\"\n",
    "In this example, we have an abstract class called Vehicle that defines an abstract method start.\n",
    "We also have two concrete classes, Car and Bike, that inherit from the Vehicle class and implement the start method.\n",
    "When we create an instance of Car or Bike and call the start method, it invokes the corresponding implementation defined in the concrete subclass.\n",
    "The users of the Car and Bike classes do not need to know about the details of how the engine is started, they just need to know that the start method will do it for them.\n",
    "This is an example of abstraction in action, as the low-level details of engine starting are hidden from the users.\n",
    "\"\"\"\n"
   ]
  },
  {
   "cell_type": "code",
   "execution_count": 3,
   "id": "a76c58eb-0243-4e91-a8e8-99f65beccc74",
   "metadata": {},
   "outputs": [
    {
     "data": {
      "text/plain": [
       "'\\nIn this example, we encapsulate the balance variable within the SavingsAccount and CurrentAccount classes by using the double underscore (__)\\nto make it a private variable. We also define a public method get_balance() to access the value of the balance variable.\\nIn summary, abstraction and encapsulation are two fundamental concepts in OOP that help in creating efficient and modular code. \\nAbstraction focuses on the functionalities of a class by hiding implementation details, while encapsulation restricts access to the internal data\\n'"
      ]
     },
     "execution_count": 3,
     "metadata": {},
     "output_type": "execute_result"
    }
   ],
   "source": [
    "\"\"\"\n",
    "Abstraction and encapsulation are two fundamental concepts in object-oriented programming that help in creating efficient and modular code.\n",
    "Although they are related, they serve different purposes.\n",
    "Abstraction is the process of representing complex real-world problems in simpler ways to make them easier to understand and manage.\n",
    "It is achieved by hiding implementation details and focusing on the functionalities of a class. \n",
    "Abstraction is implemented through the use of abstract classes and interfaces in OOPs.\n",
    "\n",
    "Encapsulation, on the other hand, is the process of hiding implementation details and restricting access \n",
    "to the internal data of a class. It is achieved by bundling data and functions that operate on that data into a single unit, \n",
    "known as a class. Encapsulation provides data security and protects data from unwanted modifications.\n",
    "Let's take an example to understand the difference between abstraction and encapsulation.\n",
    "Consider a bank account system. The bank account has a balance, and we can perform two operations on it - deposit and withdraw.\n",
    "To implement this system, we can use abstraction and encapsulation.\n",
    "Abstraction: We can create an abstract class Account that has two abstract methods - deposit() and withdraw(). \n",
    "We can also create two concrete subclasses, SavingsAccount and CurrentAccount, that inherit from the Account class and implement these methods.\n",
    "\"\"\"\n",
    "from abc import ABC, abstractmethod\n",
    "\n",
    "class Account(ABC):\n",
    "    @abstractmethod\n",
    "    def deposit(self, amount):\n",
    "        pass\n",
    "    \n",
    "    @abstractmethod\n",
    "    def withdraw(self, amount):\n",
    "        pass\n",
    "\n",
    "class SavingsAccount(Account):\n",
    "    def __init__(self):\n",
    "        self.balance = 0\n",
    "        \n",
    "    def deposit(self, amount):\n",
    "        self.balance += amount\n",
    "    \n",
    "    def withdraw(self, amount):\n",
    "        if amount <= self.balance:\n",
    "            self.balance -= amount\n",
    "        else:\n",
    "            print(\"Insufficient balance\")\n",
    "            \n",
    "class CurrentAccount(Account):\n",
    "    def __init__(self):\n",
    "        self.balance = 0\n",
    "        \n",
    "    def deposit(self, amount):\n",
    "        self.balance += amount\n",
    "    \n",
    "    def withdraw(self, amount):\n",
    "        if amount <= self.balance:\n",
    "            self.balance -= amount\n",
    "        else:\n",
    "            print(\"Insufficient balance\")\n",
    "\"\"\"\n",
    "In this example, we use abstraction to define the Account class and its abstract methods. We also create two concrete subclasses - SavingsAccount and CurrentAccount - \n",
    "that inherit from the Account class and implement its abstract methods.\n",
    "\n",
    "Encapsulation: We can encapsulate the balance variable and the deposit() and withdraw() methods within the SavingsAccount and CurrentAccount classes. \n",
    "This way, we can restrict access to the internal data of the class and ensure data security.\n",
    "\"\"\"\n",
    "class SavingsAccount(Account):\n",
    "    def __init__(self):\n",
    "        self.__balance = 0\n",
    "        \n",
    "    def deposit(self, amount):\n",
    "        self.__balance += amount\n",
    "    \n",
    "    def withdraw(self, amount):\n",
    "        if amount <= self.__balance:\n",
    "            self.__balance -= amount\n",
    "        else:\n",
    "            print(\"Insufficient balance\")\n",
    "    \n",
    "    def get_balance(self):\n",
    "        return self.__balance\n",
    "\n",
    "class CurrentAccount(Account):\n",
    "    def __init__(self):\n",
    "        self.__balance = 0\n",
    "        \n",
    "    def deposit(self, amount):\n",
    "        self.__balance += amount\n",
    "    \n",
    "    def withdraw(self, amount):\n",
    "        if amount <= self.__balance:\n",
    "            self.__balance -= amount\n",
    "        else:\n",
    "            print(\"Insufficient balance\")\n",
    "    \n",
    "    def get_balance(self):\n",
    "        return self.__balance\n",
    "\"\"\"\n",
    "In this example, we encapsulate the balance variable within the SavingsAccount and CurrentAccount classes by using the double underscore (__)\n",
    "to make it a private variable. We also define a public method get_balance() to access the value of the balance variable.\n",
    "In summary, abstraction and encapsulation are two fundamental concepts in OOP that help in creating efficient and modular code. \n",
    "Abstraction focuses on the functionalities of a class by hiding implementation details, while encapsulation restricts access to the internal data\n",
    "\"\"\""
   ]
  },
  {
   "cell_type": "code",
   "execution_count": 5,
   "id": "1d2bce37-c09a-4a34-b2ed-4e9693ce9795",
   "metadata": {},
   "outputs": [
    {
     "data": {
      "text/plain": [
       "'\\nIn this example, the Shape class is an abstract base class that defines two abstract methods, area() and perimeter().\\nAny class that inherits from the Shape class must implement these two methods, otherwise, it will raise a TypeError at runtime.\\nUsing the abc module to define abstract base classes can help to ensure that your code is more maintainable, easier to read, and less prone to errors.\\n'"
      ]
     },
     "execution_count": 5,
     "metadata": {},
     "output_type": "execute_result"
    }
   ],
   "source": [
    "\"\"\"\n",
    "The abc (abstract base classes) module is a built-in module in Python that provides an infrastructure for defining abstract base classes.\n",
    "Abstract base classes are classes that cannot be instantiated, but they define a common API for a set of related classes.\n",
    "The abc module is used to create abstract base classes and enforce constraints on the derived classes that inherit from them.\n",
    "It helps to ensure that derived classes implement the required methods and properties defined in the abstract base class, which makes it easier to write and maintain code.\n",
    "The abc module provides the ABCMeta metaclass, which can be used to define abstract classes. \n",
    "It also provides the @abstractmethod decorator, which can be used to decorate methods that must be implemented by any concrete class that inherits from the abstract base class.\n",
    "Here's an example that demonstrates the use of the abc module to define an abstract base class:\n",
    "\"\"\"\n",
    "from abc import ABC, abstractmethod\n",
    "\n",
    "class Shape(ABC):\n",
    "    @abstractmethod\n",
    "    def area(self):\n",
    "        pass\n",
    "    \n",
    "    @abstractmethod\n",
    "    def perimeter(self):\n",
    "        pass\n",
    "\"\"\"\n",
    "In this example, the Shape class is an abstract base class that defines two abstract methods, area() and perimeter().\n",
    "Any class that inherits from the Shape class must implement these two methods, otherwise, it will raise a TypeError at runtime.\n",
    "Using the abc module to define abstract base classes can help to ensure that your code is more maintainable, easier to read, and less prone to errors.\n",
    "\"\"\""
   ]
  },
  {
   "cell_type": "code",
   "execution_count": 5,
   "id": "34e5094a-dfa3-4188-ad24-2de580aca3f2",
   "metadata": {},
   "outputs": [
    {
     "data": {
      "text/plain": [
       "'\\n\\nIn this example, we define an interface Printable that has one abstract method - print(). Any class that implements the Printable interface must implement this method.\\n\\nBy using abstract classes and interfaces, we can achieve data abstraction in OOP. \\nWe can define a common set of methods that must be implemented by any class that inherits from an abstract class or implements an interface. \\nThis way, we can abstract away the implementation details of a class and focus on its functionalities.\\n\\n'"
      ]
     },
     "execution_count": 5,
     "metadata": {},
     "output_type": "execute_result"
    }
   ],
   "source": [
    "\"\"\"\n",
    "We can achieve data abstraction in object-oriented programming through the use of abstract classes and interfaces.\n",
    "\n",
    "Abstract classes are classes that cannot be instantiated and can only be used as a base class for other classes. \n",
    "They provide a way to define a blueprint for a class without implementing all the details. \n",
    "Abstract classes can contain abstract methods that do not have any implementation and must be implemented by any concrete subclasses that inherit from the abstract class. \n",
    "Abstract classes can also contain concrete methods that have an implementation and can be inherited by concrete subclasses.\n",
    "\n",
    "Here is an example of an abstract class in Python:\n",
    "\"\"\"\n",
    "from abc import ABC, abstractmethod\n",
    "\n",
    "class Shape(ABC):\n",
    "    @abstractmethod\n",
    "    def area(self):\n",
    "        pass\n",
    "    \n",
    "    @abstractmethod\n",
    "    def perimeter(self):\n",
    "        pass\n",
    "\"\"\"\n",
    "In this example, we define an abstract class Shape that has two abstract methods - area() and perimeter(). \n",
    "Any concrete subclass that inherits from the Shape class must implement these methods.\n",
    "\n",
    "Interfaces are similar to abstract classes but they cannot contain any implementation details. \n",
    "They only define the signatures of methods that must be implemented by any class that implements the interface. \n",
    "In Python, we can achieve interfaces through the use of abstract base classes.\n",
    "\n",
    "Here is an example of an interface in Python:\n",
    "\"\"\"\n",
    "from abc import ABC, abstractmethod\n",
    "\n",
    "class Printable(ABC):\n",
    "    @abstractmethod\n",
    "    def print(self):\n",
    "        pass\n",
    "\"\"\"\n",
    "\n",
    "In this example, we define an interface Printable that has one abstract method - print(). Any class that implements the Printable interface must implement this method.\n",
    "\n",
    "By using abstract classes and interfaces, we can achieve data abstraction in OOP. \n",
    "We can define a common set of methods that must be implemented by any class that inherits from an abstract class or implements an interface. \n",
    "This way, we can abstract away the implementation details of a class and focus on its functionalities.\n",
    "\n",
    "\"\"\"\n"
   ]
  },
  {
   "cell_type": "code",
   "execution_count": 1,
   "id": "28aaf472-5f81-47ba-8bb3-5b84eac28a99",
   "metadata": {},
   "outputs": [
    {
     "name": "stdout",
     "output_type": "stream",
     "text": [
      "50\n"
     ]
    },
    {
     "ename": "TypeError",
     "evalue": "Can't instantiate abstract class Shape with abstract methods area, perimeter",
     "output_type": "error",
     "traceback": [
      "\u001b[0;31m---------------------------------------------------------------------------\u001b[0m",
      "\u001b[0;31mTypeError\u001b[0m                                 Traceback (most recent call last)",
      "Cell \u001b[0;32mIn[1], line 40\u001b[0m\n\u001b[1;32m     32\u001b[0m \u001b[38;5;28mprint\u001b[39m(r\u001b[38;5;241m.\u001b[39marea())\n\u001b[1;32m     33\u001b[0m \u001b[38;5;124;03m\"\"\"\u001b[39;00m\n\u001b[1;32m     34\u001b[0m \u001b[38;5;124;03mIn this example, the Shape class is an abstract base class that defines two abstract methods, area() and perimeter().\u001b[39;00m\n\u001b[1;32m     35\u001b[0m \u001b[38;5;124;03mThe Rectangle class inherits from the Shape class and implements the area() and perimeter() methods. We can create an instance of the Rectangle class and call its methods,\u001b[39;00m\n\u001b[0;32m   (...)\u001b[0m\n\u001b[1;32m     38\u001b[0m \u001b[38;5;124;03mIf we try to create an instance of the Shape class, we will get a TypeError at runtime:\u001b[39;00m\n\u001b[1;32m     39\u001b[0m \u001b[38;5;124;03m\"\"\"\u001b[39;00m\n\u001b[0;32m---> 40\u001b[0m s \u001b[38;5;241m=\u001b[39m \u001b[43mShape\u001b[49m\u001b[43m(\u001b[49m\u001b[43m)\u001b[49m  \u001b[38;5;66;03m# TypeError: Can't instantiate abstract class Shape with abstract methods area, perimeter\u001b[39;00m\n\u001b[1;32m     41\u001b[0m \u001b[38;5;124;03m\"\"\"\u001b[39;00m\n\u001b[1;32m     42\u001b[0m \u001b[38;5;124;03mTherefore, abstract classes cannot be instantiated, but they serve as a template or blueprint for other classes to inherit from and implement their abstract methods.\u001b[39;00m\n\u001b[1;32m     43\u001b[0m \u001b[38;5;124;03m\"\"\"\u001b[39;00m\n",
      "\u001b[0;31mTypeError\u001b[0m: Can't instantiate abstract class Shape with abstract methods area, perimeter"
     ]
    }
   ],
   "source": [
    "\"\"\"\n",
    "No, we cannot create an instance of an abstract class in Python. Abstract classes are classes that cannot be instantiated, \n",
    "but instead serve as a blueprint for other classes to inherit from.\n",
    "An abstract class is defined using the \"abc\" module in Python, and it contains one or more abstract methods that have no implementation. \n",
    "These methods must be implemented by any concrete class that inherits from the abstract class, otherwise, a TypeError will be raised at runtime.\n",
    "\n",
    "Here's an example to illustrate this:\n",
    "\"\"\"\n",
    "from abc import ABC, abstractmethod\n",
    "\n",
    "class Shape(ABC):\n",
    "    @abstractmethod\n",
    "    def area(self):\n",
    "        pass\n",
    "    \n",
    "    @abstractmethod\n",
    "    def perimeter(self):\n",
    "        pass\n",
    "\n",
    "class Rectangle(Shape):\n",
    "    def __init__(self, length, width):\n",
    "        self.length = length\n",
    "        self.width = width\n",
    "    \n",
    "    def area(self):\n",
    "        return self.length * self.width\n",
    "    \n",
    "    def perimeter(self):\n",
    "        return 2 * (self.length + self.width)\n",
    "\n",
    "r = Rectangle(5, 10)\n",
    "print(r.area())\n",
    "\"\"\"\n",
    "In this example, the Shape class is an abstract base class that defines two abstract methods, area() and perimeter().\n",
    "The Rectangle class inherits from the Shape class and implements the area() and perimeter() methods. We can create an instance of the Rectangle class and call its methods,\n",
    "but we cannot create an instance of the Shape class.\n",
    "\n",
    "If we try to create an instance of the Shape class, we will get a TypeError at runtime:\n",
    "\"\"\"\n",
    "s = Shape()  # TypeError: Can't instantiate abstract class Shape with abstract methods area, perimeter\n",
    "\"\"\"\n",
    "Therefore, abstract classes cannot be instantiated, but they serve as a template or blueprint for other classes to inherit from and implement their abstract methods.\n",
    "\"\"\""
   ]
  },
  {
   "cell_type": "code",
   "execution_count": null,
   "id": "4b1a4d05-d0ff-42d8-ba29-43ef1505b411",
   "metadata": {},
   "outputs": [],
   "source": [
    "|"
   ]
  }
 ],
 "metadata": {
  "kernelspec": {
   "display_name": "Python 3 (ipykernel)",
   "language": "python",
   "name": "python3"
  },
  "language_info": {
   "codemirror_mode": {
    "name": "ipython",
    "version": 3
   },
   "file_extension": ".py",
   "mimetype": "text/x-python",
   "name": "python",
   "nbconvert_exporter": "python",
   "pygments_lexer": "ipython3",
   "version": "3.10.8"
  }
 },
 "nbformat": 4,
 "nbformat_minor": 5
}
