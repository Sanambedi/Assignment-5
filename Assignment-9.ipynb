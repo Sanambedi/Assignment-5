{
 "cells": [
  {
   "cell_type": "code",
   "execution_count": 3,
   "id": "2b6f1cf9-c814-4d52-8c81-683ce6dae287",
   "metadata": {},
   "outputs": [
    {
     "name": "stdout",
     "output_type": "stream",
     "text": [
      "Starting the car engine\n",
      "Starting the bike engine\n"
     ]
    },
    {
     "data": {
      "text/plain": [
       "'\\nIn this example, we have an abstract class called Vehicle that defines an abstract method start.\\nWe also have two concrete classes, Car and Bike, that inherit from the Vehicle class and implement the start method.\\nWhen we create an instance of Car or Bike and call the start method, it invokes the corresponding implementation defined in the concrete subclass.\\nThe users of the Car and Bike classes do not need to know about the details of how the engine is started, they just need to know that the start method will do it for them.\\nThis is an example of abstraction in action, as the low-level details of engine starting are hidden from the users.\\n'"
      ]
     },
     "execution_count": 3,
     "metadata": {},
     "output_type": "execute_result"
    }
   ],
   "source": [
    "\"\"\"\n",
    "Abstraction is one of the fundamental concepts in Object-Oriented Programming (OOPs) that focuses on the essential features and behavior of an object,\n",
    "while hiding the unnecessary details from the users. It allows users to work with high-level objects without worrying about the low-level implementation details.\n",
    "\n",
    "Abstraction is achieved through abstract classes and interfaces in OOPs. An abstract class is a class that cannot be instantiated and is designed to serve as a base class\n",
    "for other classes. It contains one or more abstract methods that must be implemented by any concrete subclasses that extend it. An interface, on the other hand,\n",
    "is a collection of abstract methods that defines a contract that any class that implements it must fulfill.\n",
    "\n",
    "Here's an example for that\n",
    "\"\"\"\n",
    "from abc import ABC\n",
    "\n",
    "class Vehicle(ABC):\n",
    "    @abstractmethod\n",
    "    def start(self):\n",
    "        pass\n",
    "\n",
    "class Car(Vehicle):\n",
    "    def start(self):\n",
    "        print(\"Starting the car engine\")\n",
    "\n",
    "class Bike(Vehicle):\n",
    "    def start(self):\n",
    "        print(\"Starting the bike engine\")\n",
    "\n",
    "car = Car()\n",
    "car.start()\n",
    "\n",
    "bike = Bike()\n",
    "bike.start()\n",
    "\"\"\"\n",
    "In this example, we have an abstract class called Vehicle that defines an abstract method start.\n",
    "We also have two concrete classes, Car and Bike, that inherit from the Vehicle class and implement the start method.\n",
    "When we create an instance of Car or Bike and call the start method, it invokes the corresponding implementation defined in the concrete subclass.\n",
    "The users of the Car and Bike classes do not need to know about the details of how the engine is started, they just need to know that the start method will do it for them.\n",
    "This is an example of abstraction in action, as the low-level details of engine starting are hidden from the users.\n",
    "\"\"\"\n"
   ]
  },
  {
   "cell_type": "code",
   "execution_count": 4,
   "id": "a76c58eb-0243-4e91-a8e8-99f65beccc74",
   "metadata": {},
   "outputs": [
    {
     "data": {
      "text/plain": [
       "\"\\nAbstraction and Encapsulation are two key concepts in object-oriented programming (OOP) that are often used interchangeably, but they have distinct differences.\\nAbstraction refers to the process of hiding the implementation details of a system while only exposing the relevant details to the user.\\nIt allows the user to interact with the system at a higher level of abstraction without knowing the underlying complexity.\\nAbstraction is achieved through the use of abstract classes, interfaces, and inheritance.\\nEncapsulation, on the other hand, refers to the practice of bundling data and methods into a single unit, called a class,\\nand restricting access to the internal workings of the class from the outside world. It provides a way to protect the data from unauthorized access and modification.\\nEncapsulation is achieved through the use of access modifiers, such as private, protected, and public.\\nAn example of abstraction can be a car dashboard, where the driver interacts with a simplified interface of the car's internal mechanisms.\\nThe driver does not need to know the detailed implementation of the engine or transmission to operate the car. Similarly, in software development,\\na database abstraction layer can be used to interact with different types of databases without knowing the specific implementation details of each database.\\nAn example of encapsulation can be a bank account class that contains private data members such as account number, balance, and PIN.\\nThe account class provides public methods such as deposit, withdraw, and getBalance to interact with the account data,\\nwhile keeping the data private and secure from unauthorized access or modification from the outside world.\\nIn summary, abstraction and encapsulation are two fundamental concepts of OOP that aim to improve code quality, maintainability, and security.\\nWhile abstraction focuses on hiding complexity, encapsulation focuses on data protection and access control.\\n\""
      ]
     },
     "execution_count": 4,
     "metadata": {},
     "output_type": "execute_result"
    }
   ],
   "source": [
    "\"\"\"\n",
    "Abstraction and Encapsulation are two key concepts in object-oriented programming (OOP) that are often used interchangeably, but they have distinct differences.\n",
    "Abstraction refers to the process of hiding the implementation details of a system while only exposing the relevant details to the user.\n",
    "It allows the user to interact with the system at a higher level of abstraction without knowing the underlying complexity.\n",
    "Abstraction is achieved through the use of abstract classes, interfaces, and inheritance.\n",
    "Encapsulation, on the other hand, refers to the practice of bundling data and methods into a single unit, called a class,\n",
    "and restricting access to the internal workings of the class from the outside world. It provides a way to protect the data from unauthorized access and modification.\n",
    "Encapsulation is achieved through the use of access modifiers, such as private, protected, and public.\n",
    "An example of abstraction can be a car dashboard, where the driver interacts with a simplified interface of the car's internal mechanisms.\n",
    "The driver does not need to know the detailed implementation of the engine or transmission to operate the car. Similarly, in software development,\n",
    "a database abstraction layer can be used to interact with different types of databases without knowing the specific implementation details of each database.\n",
    "An example of encapsulation can be a bank account class that contains private data members such as account number, balance, and PIN.\n",
    "The account class provides public methods such as deposit, withdraw, and getBalance to interact with the account data,\n",
    "while keeping the data private and secure from unauthorized access or modification from the outside world.\n",
    "In summary, abstraction and encapsulation are two fundamental concepts of OOP that aim to improve code quality, maintainability, and security.\n",
    "While abstraction focuses on hiding complexity, encapsulation focuses on data protection and access control.\n",
    "\"\"\""
   ]
  },
  {
   "cell_type": "code",
   "execution_count": 5,
   "id": "1d2bce37-c09a-4a34-b2ed-4e9693ce9795",
   "metadata": {},
   "outputs": [
    {
     "data": {
      "text/plain": [
       "'\\nIn this example, the Shape class is an abstract base class that defines two abstract methods, area() and perimeter().\\nAny class that inherits from the Shape class must implement these two methods, otherwise, it will raise a TypeError at runtime.\\nUsing the abc module to define abstract base classes can help to ensure that your code is more maintainable, easier to read, and less prone to errors.\\n'"
      ]
     },
     "execution_count": 5,
     "metadata": {},
     "output_type": "execute_result"
    }
   ],
   "source": [
    "\"\"\"\n",
    "The abc (abstract base classes) module is a built-in module in Python that provides an infrastructure for defining abstract base classes.\n",
    "Abstract base classes are classes that cannot be instantiated, but they define a common API for a set of related classes.\n",
    "The abc module is used to create abstract base classes and enforce constraints on the derived classes that inherit from them.\n",
    "It helps to ensure that derived classes implement the required methods and properties defined in the abstract base class, which makes it easier to write and maintain code.\n",
    "The abc module provides the ABCMeta metaclass, which can be used to define abstract classes. \n",
    "It also provides the @abstractmethod decorator, which can be used to decorate methods that must be implemented by any concrete class that inherits from the abstract base class.\n",
    "Here's an example that demonstrates the use of the abc module to define an abstract base class:\n",
    "\"\"\"\n",
    "from abc import ABC, abstractmethod\n",
    "\n",
    "class Shape(ABC):\n",
    "    @abstractmethod\n",
    "    def area(self):\n",
    "        pass\n",
    "    \n",
    "    @abstractmethod\n",
    "    def perimeter(self):\n",
    "        pass\n",
    "\"\"\"\n",
    "In this example, the Shape class is an abstract base class that defines two abstract methods, area() and perimeter().\n",
    "Any class that inherits from the Shape class must implement these two methods, otherwise, it will raise a TypeError at runtime.\n",
    "Using the abc module to define abstract base classes can help to ensure that your code is more maintainable, easier to read, and less prone to errors.\n",
    "\"\"\""
   ]
  },
  {
   "cell_type": "code",
   "execution_count": 6,
   "id": "34e5094a-dfa3-4188-ad24-2de580aca3f2",
   "metadata": {},
   "outputs": [
    {
     "data": {
      "text/plain": [
       "'\\nData abstraction can be achieved in programming by separating the essential information of an object from its implementation details.\\nHere are some ways to achieve data abstraction in programming:\\n\\n1.)Classes and Objects: In Object-Oriented Programming (OOP), data abstraction is achieved by using classes and objects. \\n   A class is a blueprint for creating objects, which encapsulates the properties and behavior of the object. \\n   The object represents an instance of the class, and the user interacts with the object through its public methods, while the implementation details are hidden.\\n\\n2.)Access Modifiers: Access modifiers such as private, public, and protected in OOP allow us to control the accessibility of class members such as properties and methods.\\n   By making some properties and methods private, we can hide the implementation details and expose only the relevant information to the user.\\n\\n3.)Abstract Classes and Interfaces: In OOP, abstract classes and interfaces can be used to define a set of methods that a class must implement. \\n   Abstract classes provide a base class for other classes to inherit from, while interfaces define the behavior of an object without specifying its implementation details.\\n\\n4.)Encapsulation: Encapsulation is a fundamental concept in OOP, which involves bundling data and methods into a single unit, called a class, and restricting access to the \\n   internal workings of the class from the outside world. This helps to protect the data from unauthorized access and modification, and makes it easier to maintain and modify the\\n   code.\\n\\n5.)Function Overloading: Function overloading is a feature in programming that allows a function to have multiple implementations with different input parameters.\\n   It can be used to achieve data abstraction by hiding the details of the implementation from the user and providing a simplified interface.\\n\\nIn summary, data abstraction can be achieved in programming through various techniques such as classes and objects, access modifiers, abstract classes and interfaces, \\nencapsulation, and function overloading.\\n'"
      ]
     },
     "execution_count": 6,
     "metadata": {},
     "output_type": "execute_result"
    }
   ],
   "source": [
    "\"\"\"\n",
    "Data abstraction can be achieved in programming by separating the essential information of an object from its implementation details.\n",
    "Here are some ways to achieve data abstraction in programming:\n",
    "\n",
    "1.)Classes and Objects: In Object-Oriented Programming (OOP), data abstraction is achieved by using classes and objects. \n",
    "   A class is a blueprint for creating objects, which encapsulates the properties and behavior of the object. \n",
    "   The object represents an instance of the class, and the user interacts with the object through its public methods, while the implementation details are hidden.\n",
    "\n",
    "2.)Access Modifiers: Access modifiers such as private, public, and protected in OOP allow us to control the accessibility of class members such as properties and methods.\n",
    "   By making some properties and methods private, we can hide the implementation details and expose only the relevant information to the user.\n",
    "\n",
    "3.)Abstract Classes and Interfaces: In OOP, abstract classes and interfaces can be used to define a set of methods that a class must implement. \n",
    "   Abstract classes provide a base class for other classes to inherit from, while interfaces define the behavior of an object without specifying its implementation details.\n",
    "\n",
    "4.)Encapsulation: Encapsulation is a fundamental concept in OOP, which involves bundling data and methods into a single unit, called a class, and restricting access to the \n",
    "   internal workings of the class from the outside world. This helps to protect the data from unauthorized access and modification, and makes it easier to maintain and modify the\n",
    "   code.\n",
    "\n",
    "5.)Function Overloading: Function overloading is a feature in programming that allows a function to have multiple implementations with different input parameters.\n",
    "   It can be used to achieve data abstraction by hiding the details of the implementation from the user and providing a simplified interface.\n",
    "\n",
    "In summary, data abstraction can be achieved in programming through various techniques such as classes and objects, access modifiers, abstract classes and interfaces, \n",
    "encapsulation, and function overloading.\n",
    "\"\"\"\n",
    "\n",
    "\n",
    "\n",
    "\n",
    "\n"
   ]
  },
  {
   "cell_type": "code",
   "execution_count": 14,
   "id": "28aaf472-5f81-47ba-8bb3-5b84eac28a99",
   "metadata": {},
   "outputs": [
    {
     "name": "stdout",
     "output_type": "stream",
     "text": [
      "50\n"
     ]
    },
    {
     "ename": "TypeError",
     "evalue": "Can't instantiate abstract class Shape with abstract methods area, perimeter",
     "output_type": "error",
     "traceback": [
      "\u001b[0;31m---------------------------------------------------------------------------\u001b[0m",
      "\u001b[0;31mTypeError\u001b[0m                                 Traceback (most recent call last)",
      "Cell \u001b[0;32mIn[14], line 40\u001b[0m\n\u001b[1;32m     32\u001b[0m \u001b[38;5;28mprint\u001b[39m(r\u001b[38;5;241m.\u001b[39marea())\n\u001b[1;32m     33\u001b[0m \u001b[38;5;124;03m\"\"\"\u001b[39;00m\n\u001b[1;32m     34\u001b[0m \u001b[38;5;124;03mIn this example, the Shape class is an abstract base class that defines two abstract methods, area() and perimeter().\u001b[39;00m\n\u001b[1;32m     35\u001b[0m \u001b[38;5;124;03mThe Rectangle class inherits from the Shape class and implements the area() and perimeter() methods. We can create an instance of the Rectangle class and call its methods,\u001b[39;00m\n\u001b[0;32m   (...)\u001b[0m\n\u001b[1;32m     38\u001b[0m \u001b[38;5;124;03mIf we try to create an instance of the Shape class, we will get a TypeError at runtime:\u001b[39;00m\n\u001b[1;32m     39\u001b[0m \u001b[38;5;124;03m\"\"\"\u001b[39;00m\n\u001b[0;32m---> 40\u001b[0m s \u001b[38;5;241m=\u001b[39m \u001b[43mShape\u001b[49m\u001b[43m(\u001b[49m\u001b[43m)\u001b[49m  \u001b[38;5;66;03m# TypeError: Can't instantiate abstract class Shape with abstract methods area, perimeter\u001b[39;00m\n\u001b[1;32m     41\u001b[0m \u001b[38;5;124;03m\"\"\"\u001b[39;00m\n\u001b[1;32m     42\u001b[0m \u001b[38;5;124;03mTherefore, abstract classes cannot be instantiated, but they serve as a template or blueprint for other classes to inherit from and implement their abstract methods.\u001b[39;00m\n\u001b[1;32m     43\u001b[0m \u001b[38;5;124;03m\"\"\"\u001b[39;00m\n",
      "\u001b[0;31mTypeError\u001b[0m: Can't instantiate abstract class Shape with abstract methods area, perimeter"
     ]
    }
   ],
   "source": [
    "\"\"\"\n",
    "No, we cannot create an instance of an abstract class in Python. Abstract classes are classes that cannot be instantiated, \n",
    "but instead serve as a blueprint for other classes to inherit from.\n",
    "An abstract class is defined using the \"abc\" module in Python, and it contains one or more abstract methods that have no implementation. \n",
    "These methods must be implemented by any concrete class that inherits from the abstract class, otherwise, a TypeError will be raised at runtime.\n",
    "\n",
    "Here's an example to illustrate this:\n",
    "\"\"\"\n",
    "from abc import ABC, abstractmethod\n",
    "\n",
    "class Shape(ABC):\n",
    "    @abstractmethod\n",
    "    def area(self):\n",
    "        pass\n",
    "    \n",
    "    @abstractmethod\n",
    "    def perimeter(self):\n",
    "        pass\n",
    "\n",
    "class Rectangle(Shape):\n",
    "    def __init__(self, length, width):\n",
    "        self.length = length\n",
    "        self.width = width\n",
    "    \n",
    "    def area(self):\n",
    "        return self.length * self.width\n",
    "    \n",
    "    def perimeter(self):\n",
    "        return 2 * (self.length + self.width)\n",
    "\n",
    "r = Rectangle(5, 10)\n",
    "print(r.area())\n",
    "\"\"\"\n",
    "In this example, the Shape class is an abstract base class that defines two abstract methods, area() and perimeter().\n",
    "The Rectangle class inherits from the Shape class and implements the area() and perimeter() methods. We can create an instance of the Rectangle class and call its methods,\n",
    "but we cannot create an instance of the Shape class.\n",
    "\n",
    "If we try to create an instance of the Shape class, we will get a TypeError at runtime:\n",
    "\"\"\"\n",
    "s = Shape()  # TypeError: Can't instantiate abstract class Shape with abstract methods area, perimeter\n",
    "\"\"\"\n",
    "Therefore, abstract classes cannot be instantiated, but they serve as a template or blueprint for other classes to inherit from and implement their abstract methods.\n",
    "\"\"\""
   ]
  },
  {
   "cell_type": "code",
   "execution_count": null,
   "id": "4b1a4d05-d0ff-42d8-ba29-43ef1505b411",
   "metadata": {},
   "outputs": [],
   "source": [
    "|"
   ]
  }
 ],
 "metadata": {
  "kernelspec": {
   "display_name": "Python 3 (ipykernel)",
   "language": "python",
   "name": "python3"
  },
  "language_info": {
   "codemirror_mode": {
    "name": "ipython",
    "version": 3
   },
   "file_extension": ".py",
   "mimetype": "text/x-python",
   "name": "python",
   "nbconvert_exporter": "python",
   "pygments_lexer": "ipython3",
   "version": "3.10.8"
  }
 },
 "nbformat": 4,
 "nbformat_minor": 5
}
