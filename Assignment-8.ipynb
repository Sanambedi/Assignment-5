{
 "cells": [
  {
   "cell_type": "code",
   "execution_count": 21,
   "id": "b5b692e2-24c5-441e-9cb4-4485dc458865",
   "metadata": {},
   "outputs": [
    {
     "name": "stdin",
     "output_type": "stream",
     "text": [
      "Write your password List ComprehensioI\n"
     ]
    },
    {
     "data": {
      "text/plain": [
       "False"
      ]
     },
     "execution_count": 21,
     "metadata": {},
     "output_type": "execute_result"
    }
   ],
   "source": [
    "def checkPassword(s):\n",
    "    small = 0\n",
    "    large = 0\n",
    "    number = 0\n",
    "    sc = 0\n",
    "    for i in s:\n",
    "        if ord(i)>=65 and ord(i)<=90:\n",
    "            large = large + 1\n",
    "        if ord(i)>=97 and ord(i)<=122:\n",
    "            small = small + 1\n",
    "        if ord(i)>=48 and ord(i)<=57:\n",
    "            number = number+1\n",
    "        if (ord(i)>=32 and ord(i)<=47) or (ord(i)>=58 and ord(i)<=64) or (ord(i)>=91 and ord(i)<=96) or (ord(i)>=123 and ord(i)<=126):\n",
    "            sc = sc+1\n",
    "    if small<2 or large<2 or number<1 or sc<3 or len(s)<10:\n",
    "        return False\n",
    "    \n",
    "    return True\n",
    "w = input(\"Write your password\")\n",
    "p = checkPassword(w)\n",
    "p"
   ]
  },
  {
   "cell_type": "code",
   "execution_count": 48,
   "id": "a54e0503-55f7-4a2f-9526-0d5ea9de6e8c",
   "metadata": {},
   "outputs": [
    {
     "data": {
      "text/plain": [
       "True"
      ]
     },
     "execution_count": 48,
     "metadata": {},
     "output_type": "execute_result"
    }
   ],
   "source": [
    "#Answer 1\n",
    "f = lambda x,string : string[0].lower() == x\n",
    "f(\"m\",\"Manhoos\")\n"
   ]
  },
  {
   "cell_type": "code",
   "execution_count": 49,
   "id": "efcab8f1-7998-413f-a064-c51411792412",
   "metadata": {},
   "outputs": [
    {
     "data": {
      "text/plain": [
       "True"
      ]
     },
     "execution_count": 49,
     "metadata": {},
     "output_type": "execute_result"
    }
   ],
   "source": [
    "#Answer 2\n",
    "k = lambda x:x.isnumeric()\n",
    "k(\"123456\")"
   ]
  },
  {
   "cell_type": "code",
   "execution_count": 50,
   "id": "91df01ea-384c-47f4-9897-d76d12b208a0",
   "metadata": {},
   "outputs": [
    {
     "data": {
      "text/plain": [
       "[('orange', 80), ('mango', 99), ('grapes', 1000)]"
      ]
     },
     "execution_count": 50,
     "metadata": {},
     "output_type": "execute_result"
    }
   ],
   "source": [
    "#Answer 3\n",
    "l = [(\"mango\",99),(\"orange\",80), (\"grapes\", 1000)]\n",
    "l.sort(key = lambda x:x[1])\n",
    "l"
   ]
  },
  {
   "cell_type": "code",
   "execution_count": 51,
   "id": "d055f9e8-2a68-4be0-a8ff-99100a757cd4",
   "metadata": {},
   "outputs": [
    {
     "data": {
      "text/plain": [
       "[1, 4, 9, 16, 25, 36, 49, 64, 81, 100]"
      ]
     },
     "execution_count": 51,
     "metadata": {},
     "output_type": "execute_result"
    }
   ],
   "source": [
    "#Answer 4\n",
    "[i**2 for i in range(1,11)]"
   ]
  },
  {
   "cell_type": "code",
   "execution_count": 52,
   "id": "11a94127-b192-44ef-845b-ee9e8051b907",
   "metadata": {},
   "outputs": [
    {
     "data": {
      "text/plain": [
       "[1.0,\n",
       " 1.2599210498948732,\n",
       " 1.4422495703074083,\n",
       " 1.5874010519681994,\n",
       " 1.7099759466766968,\n",
       " 1.8171205928321397,\n",
       " 1.912931182772389,\n",
       " 2.0,\n",
       " 2.080083823051904,\n",
       " 2.154434690031884]"
      ]
     },
     "execution_count": 52,
     "metadata": {},
     "output_type": "execute_result"
    }
   ],
   "source": [
    "#Answer 5\n",
    "l = [1,2,3,4,5,6,7,8,9,10]\n",
    "list(map(lambda x:x**(1/3),l))"
   ]
  },
  {
   "cell_type": "code",
   "execution_count": 53,
   "id": "d370041d-ae49-4e34-b233-75b508cbe30a",
   "metadata": {},
   "outputs": [
    {
     "name": "stdin",
     "output_type": "stream",
     "text": [
      "Enter the number you want to check 123456\n"
     ]
    },
    {
     "data": {
      "text/plain": [
       "True"
      ]
     },
     "execution_count": 53,
     "metadata": {},
     "output_type": "execute_result"
    }
   ],
   "source": [
    "#Answer 6\n",
    "r = int(input(\"Enter the number you want to check\"))\n",
    "m = lambda x:x%2==0\n",
    "m(r)"
   ]
  },
  {
   "cell_type": "code",
   "execution_count": 56,
   "id": "a7b8c8d5-f439-4437-9c23-324172e419e0",
   "metadata": {},
   "outputs": [
    {
     "data": {
      "text/plain": [
       "[1, 3, 5, 7, 9]"
      ]
     },
     "execution_count": 56,
     "metadata": {},
     "output_type": "execute_result"
    }
   ],
   "source": [
    "#Answer 7\n",
    "l = [1,2,3,4,5,6,7,8,9,10]\n",
    "list(filter(lambda x:x%2==1,l))"
   ]
  },
  {
   "cell_type": "code",
   "execution_count": 57,
   "id": "5a1e1a4a-3226-4f12-9479-9deb4b84579e",
   "metadata": {},
   "outputs": [],
   "source": [
    "#Answer 8l = [1,2,3,4,5,6,-1,-2,-3,-4,-5,0]\n",
    "positive = [i for i in l if i > 0]\n",
    "negative = [i for i in l if i < 0]"
   ]
  },
  {
   "cell_type": "code",
   "execution_count": null,
   "id": "1c8d3d29-db39-4320-9225-f323412f00a7",
   "metadata": {},
   "outputs": [],
   "source": []
  }
 ],
 "metadata": {
  "kernelspec": {
   "display_name": "Python 3 (ipykernel)",
   "language": "python",
   "name": "python3"
  },
  "language_info": {
   "codemirror_mode": {
    "name": "ipython",
    "version": 3
   },
   "file_extension": ".py",
   "mimetype": "text/x-python",
   "name": "python",
   "nbconvert_exporter": "python",
   "pygments_lexer": "ipython3",
   "version": "3.10.8"
  }
 },
 "nbformat": 4,
 "nbformat_minor": 5
}
