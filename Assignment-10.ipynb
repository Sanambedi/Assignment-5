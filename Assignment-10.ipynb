{
 "cells": [
  {
   "cell_type": "code",
   "execution_count": 2,
   "id": "701c7bef-dc69-413b-b666-66161e21b0d5",
   "metadata": {},
   "outputs": [],
   "source": [
    "#Answer 1\n",
    "class vehicle:\n",
    "    def __init__(self,name_of_vehicle,max_speed,average_of_vehicle):\n",
    "        self.name_of_vehicle = name_of_vehicle\n",
    "        self.max_speed = max_speed\n",
    "        self.average_of_vehicle = average_of_vehicle\n",
    "        "
   ]
  },
  {
   "cell_type": "code",
   "execution_count": 15,
   "id": "01188133-85a1-487b-8128-dbd0b5b3011e",
   "metadata": {},
   "outputs": [],
   "source": [
    "#Answer 2\n",
    "class Car(vehicle):\n",
    "    def seating_capacity(self,capacity):\n",
    "        return f\"Name of the vehicle is {self.name_of_vehicle} and it's capacity is {capacity}\"\n",
    "        "
   ]
  },
  {
   "cell_type": "code",
   "execution_count": 16,
   "id": "7719d361-93fd-4d0a-bda0-603853fc60e9",
   "metadata": {},
   "outputs": [],
   "source": [
    "#Answer2\n",
    "c = Car(\"Alcazar\",190,20)"
   ]
  },
  {
   "cell_type": "code",
   "execution_count": 17,
   "id": "fd0330c9-db6a-468d-a525-8cb5cc2ef598",
   "metadata": {},
   "outputs": [
    {
     "data": {
      "text/plain": [
       "\"Name of the vehicle is Alcazar and it's capacity is 165\""
      ]
     },
     "execution_count": 17,
     "metadata": {},
     "output_type": "execute_result"
    }
   ],
   "source": [
    "#Answer 2\n",
    "c.seating_capacity(165)"
   ]
  },
  {
   "cell_type": "code",
   "execution_count": 19,
   "id": "1ac4610a-89b1-43da-8e0a-ba3a8a023cba",
   "metadata": {},
   "outputs": [],
   "source": [
    "#Answer 3\n",
    "class A:\n",
    "    pass\n",
    "\n",
    "class B:\n",
    "    pass\n",
    "\n",
    "class C(A,B):\n",
    "    pass\n",
    "\n",
    "class D(C):\n",
    "    pass\n",
    "#In this example, we define three classes A, B, and C. The C class inherits from both A and B using multiple inheritance. \n",
    "#We can see this by specifying both A and B in the parentheses after the class name C.\n",
    "#Finally, we define a D class that inherits from C. This creates a class hierarchy with D as a subclass of C, which is a subclass of both A and B."
   ]
  },
  {
   "cell_type": "code",
   "execution_count": 20,
   "id": "ce6e814b-464e-4e2f-98ef-747b86952414",
   "metadata": {},
   "outputs": [
    {
     "data": {
      "text/plain": [
       "'\\nIn this example, we define a Person class with two private attributes __name and __age. We use the double underscore prefix to make these attributes private,\\nwhich means they cannot be accessed or modified from outside the class.\\nTo access and modify these private attributes, we define getter and setter methods using the public methods get_name(), set_name(), get_age(), and set_age().\\nThese methods allow us to retrieve and modify the private attributes of the Person class without directly accessing them from outside the class.\\n'"
      ]
     },
     "execution_count": 20,
     "metadata": {},
     "output_type": "execute_result"
    }
   ],
   "source": [
    "#Answer 4\n",
    "\"\"\"\n",
    "Getter and setter methods are used in Python to access and modify the private attributes of a class. \n",
    "They provide a mechanism to encapsulate data and control how it is accessed or modified.\n",
    "A getter method is used to retrieve the value of a private attribute, while a setter method is used to modify the value of a private attribute.\n",
    "Here's an example of a class that has a private attribute and getter and setter methods to access and modify the attribute:\n",
    "\"\"\"\n",
    "class Person:\n",
    "    def __init__(self, name, age):\n",
    "        self.__name = name\n",
    "        self.__age = age\n",
    "\n",
    "    def get_name(self):\n",
    "        return self.__name\n",
    "\n",
    "    def set_name(self, name):\n",
    "        self.__name = name\n",
    "\n",
    "    def get_age(self):\n",
    "        return self.__age\n",
    "\n",
    "    def set_age(self, age):\n",
    "        self.__age = age\n",
    "\n",
    "\"\"\"\n",
    "In this example, we define a Person class with two private attributes __name and __age. We use the double underscore prefix to make these attributes private,\n",
    "which means they cannot be accessed or modified from outside the class.\n",
    "To access and modify these private attributes, we define getter and setter methods using the public methods get_name(), set_name(), get_age(), and set_age().\n",
    "These methods allow us to retrieve and modify the private attributes of the Person class without directly accessing them from outside the class.\n",
    "\"\"\""
   ]
  },
  {
   "cell_type": "code",
   "execution_count": 22,
   "id": "2357b508-47a2-4056-95bb-56ea08d81d88",
   "metadata": {},
   "outputs": [
    {
     "name": "stdout",
     "output_type": "stream",
     "text": [
      "The animal makes a sound\n",
      "The dog barks\n",
      "The cat meows\n"
     ]
    }
   ],
   "source": [
    "#Answer 5\n",
    "\"\"\"\n",
    "Method overriding is a feature of object-oriented programming where a subclass can provide its own implementation of a method that is already defined in its parent class.\n",
    "This allows the subclass to customize the behavior of the inherited method without modifying the original implementation.\n",
    "\n",
    "Here's an example of method overriding in Python:\n",
    "\"\"\"\n",
    "class Animal:\n",
    "    def make_sound(self):\n",
    "        print(\"The animal makes a sound\")\n",
    "\n",
    "class Dog(Animal):\n",
    "    def make_sound(self):\n",
    "        print(\"The dog barks\")\n",
    "\n",
    "class Cat(Animal):\n",
    "    def make_sound(self):\n",
    "        print(\"The cat meows\")\n",
    "\n",
    "animal = Animal()\n",
    "dog = Dog()\n",
    "cat = Cat()\n",
    "\n",
    "animal.make_sound()    \n",
    "dog.make_sound()       \n",
    "cat.make_sound()  \n",
    "\n"
   ]
  },
  {
   "cell_type": "code",
   "execution_count": null,
   "id": "ccb51f8d-fc78-4344-a70b-2f3e1b7f937c",
   "metadata": {},
   "outputs": [],
   "source": []
  }
 ],
 "metadata": {
  "kernelspec": {
   "display_name": "Python 3 (ipykernel)",
   "language": "python",
   "name": "python3"
  },
  "language_info": {
   "codemirror_mode": {
    "name": "ipython",
    "version": 3
   },
   "file_extension": ".py",
   "mimetype": "text/x-python",
   "name": "python",
   "nbconvert_exporter": "python",
   "pygments_lexer": "ipython3",
   "version": "3.10.8"
  }
 },
 "nbformat": 4,
 "nbformat_minor": 5
}
