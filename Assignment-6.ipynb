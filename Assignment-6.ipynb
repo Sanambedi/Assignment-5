{
 "cells": [
  {
   "cell_type": "code",
   "execution_count": 1,
   "id": "2b7de887-e065-40c9-9e97-c3484fd339f1",
   "metadata": {},
   "outputs": [
    {
     "data": {
      "text/plain": [
       "\"\\n\\nObject---\\nAn object is a single instance of a class, which contains data and methods working on that data. So an object consists of three things: \\nName: This is a variable name that represents the object.\\nMember data: The data that describes the object.\\nMember methods: Behavior that describes the object.\\n\\nFor example:- Taking the above example we create an object car like Santro under the class car. It's attributes will be BrandName->Santro,4 wheels as MRF , color as Grey, and so on.\\n\""
      ]
     },
     "execution_count": 1,
     "metadata": {},
     "output_type": "execute_result"
    }
   ],
   "source": [
    "#Answer 1 \n",
    "\"\"\"\n",
    "Class:--\n",
    "A class is a layout or blueprint of an object that describes what a specific kind of object will look like. A class description consists of two things 1.)  Attributes or member variables, and \n",
    "2) Implementations of behavior or member functions.\n",
    "\n",
    "So in object-oriented terminology: A class is a blueprint that defines the variables and the methods common to all objects of a certain kind.\n",
    "It helps us to bind data and methods together, making the code reusable, unlike procedural language.\n",
    "\n",
    "For example:- As discussed in earlier video a car has attributes like a brand name, 4 wheels, color and functions like moving and turning\n",
    "\n",
    "\"\"\"\n",
    "\n",
    "\n",
    "\"\"\"\n",
    "\n",
    "Object---\n",
    "An object is a single instance of a class, which contains data and methods working on that data. So an object consists of three things: \n",
    "Name: This is a variable name that represents the object.\n",
    "Member data: The data that describes the object.\n",
    "Member methods: Behavior that describes the object.\n",
    "\n",
    "For example:- Taking the above example we create an object car like Santro under the class car. It's attributes will be BrandName->Santro,4 wheels as MRF , color as Grey, and so on.\n",
    "\"\"\""
   ]
  },
  {
   "cell_type": "code",
   "execution_count": 1,
   "id": "50d78202-87ad-4db6-8e12-953db642ca6c",
   "metadata": {},
   "outputs": [
    {
     "data": {
      "text/plain": [
       "' \\nTHe four pillars of the OOPs or the Object Oriented Programming are\\n1.)Abstraction\\n2.)Encapsulation\\n3.)Inheritence\\n4.)Polymorphism\\n'"
      ]
     },
     "execution_count": 1,
     "metadata": {},
     "output_type": "execute_result"
    }
   ],
   "source": [
    "#Answer 2\n",
    "\"\"\" \n",
    "THe four pillars of the OOPs or the Object Oriented Programming are\n",
    "1.)Abstraction\n",
    "2.)Encapsulation\n",
    "3.)Inheritence\n",
    "4.)Polymorphism\n",
    "\"\"\""
   ]
  },
  {
   "cell_type": "code",
   "execution_count": 4,
   "id": "48307574-1986-4ba3-ab60-f4acb9c5761b",
   "metadata": {},
   "outputs": [
    {
     "data": {
      "text/plain": [
       "\"\\nThe __init__() function is a special method in Python classes that gets called\\nwhen an object is created from the class. This method is used to initialize the object's attributes or properties with some initial values.\\nThis type of method is called 'Constructor'.\\nIt is a special type of subroutine called to create an object. It prepares the new object for use, often accepting arguments that the constructor uses to set required member variables.\\nA constructor resembles an instance method, but it differs from a method in that it has no explicit return type, it is not implicitly inherited and it usually has different rules for scope modifiers.\\n\""
      ]
     },
     "execution_count": 4,
     "metadata": {},
     "output_type": "execute_result"
    }
   ],
   "source": [
    "\"\"\"\n",
    "The __init__() function is a special method in Python classes that gets called\n",
    "when an object is created from the class. This method is used to initialize the object's attributes or properties with some initial values.\n",
    "This type of method is called 'Constructor'.\n",
    "It is a special type of subroutine called to create an object. It prepares the new object for use, often accepting arguments that the constructor uses to set required member variables.\n",
    "A constructor resembles an instance method, but it differs from a method in that it has no explicit return type, it is not implicitly inherited and it usually has different rules for scope modifiers.\n",
    "\"\"\""
   ]
  },
  {
   "cell_type": "code",
   "execution_count": 1,
   "id": "074f04d9-27ff-4370-b675-3df3f1b8c04a",
   "metadata": {},
   "outputs": [
    {
     "data": {
      "text/plain": [
       "'\\nSelf represents the instance of the class. By using the “self”  we can access the attributes and methods of the class in python. It binds the attributes with the given arguments.\\n\\nThe reason you need to use self. is because Python does not use the @ syntax to refer to instance attributes.\\nPython decided to do methods in a way that makes the instance to which the method belongs be passed automatically,\\nbut not received automatically: the first parameter of methods is the instance the method is called on.\\n'"
      ]
     },
     "execution_count": 1,
     "metadata": {},
     "output_type": "execute_result"
    }
   ],
   "source": [
    "#Answer 4\n",
    "\"\"\"\n",
    "Self represents the instance of the class. By using the “self”  we can access the attributes and methods of the class in python. It binds the attributes with the given arguments.\n",
    "\n",
    "The reason you need to use self. is because Python does not use the @ syntax to refer to instance attributes.\n",
    "Python decided to do methods in a way that makes the instance to which the method belongs be passed automatically,\n",
    "but not received automatically: the first parameter of methods is the instance the method is called on.\n",
    "\"\"\""
   ]
  },
  {
   "cell_type": "code",
   "execution_count": 6,
   "id": "b17b67ed-e7d4-49ec-9b05-c8bb9bc6c171",
   "metadata": {},
   "outputs": [
    {
     "name": "stdout",
     "output_type": "stream",
     "text": [
      "1.)Example of Single Inheritence\n",
      "The vehicle is starting\n",
      "The Toyota Camry is driving\n",
      "The Toyota Camry is honking the horn\n",
      "The vehicle is stopping\n",
      "\n",
      "\n",
      "\n",
      "\n",
      "2.)Example of Multiple Inheritence\n",
      "I can fly\n",
      "I can swim\n",
      "\n",
      "\n",
      "\n",
      "\n",
      "3.)Example of Multilevel Inheritence\n",
      "Rocky speaks\n",
      "Rocky barks\n",
      "Rocky runs\n",
      "\n",
      "\n",
      "\n",
      "\n",
      "4.)Example of Hierarchical Inheritance\n",
      "The vehicle is starting\n",
      "The Toyota Camry is driving\n",
      "The Toyota Camry is honking the horn\n",
      "The vehicle is stopping\n",
      "The vehicle is starting\n",
      "The Ford F-150 is hauling 5000 pounds\n",
      "The vehicle is stopping\n"
     ]
    }
   ],
   "source": [
    "#Answer 5\n",
    "\"\"\"Inheritance is a mechanism in Object-Oriented Programming (OOP) that allows a new class to be based on an existing class,\n",
    "inheriting its attributes and methods. The existing class is called the parent or base class, and the new class is called the child or derived class.\n",
    "\n",
    "There are five types of inheritance in Python:\n",
    "\"\"\"\n",
    "\n",
    "#1.)Single Inheritance: In this type of inheritance, a child class inherits from a single parent class.\n",
    "print(\"1.)Example of Single Inheritence\")\n",
    "class Vehicle:\n",
    "    def __init__(self, make, model, year):\n",
    "        self.make = make\n",
    "        self.model = model\n",
    "        self.year = year\n",
    "\n",
    "    def start(self):\n",
    "        print(\"The vehicle is starting\")\n",
    "\n",
    "    def stop(self):\n",
    "        print(\"The vehicle is stopping\")\n",
    "\n",
    "class Car(Vehicle):\n",
    "    def __init__(self, make, model, year, num_doors):\n",
    "        super().__init__(make, model, year)\n",
    "        self.num_doors = num_doors\n",
    "\n",
    "    def drive(self):\n",
    "        print(f\"The {self.make} {self.model} is driving\")\n",
    "\n",
    "    def honk(self):\n",
    "        print(f\"The {self.make} {self.model} is honking the horn\")\n",
    "\n",
    "car = Car(\"Toyota\", \"Camry\", 2021, 4)\n",
    "car.start() # Output: \"The vehicle is starting\"\n",
    "car.drive() # Output: \"The Toyota Camry is driving\"\n",
    "car.honk() # Output: \"The Toyota Camry is honking the horn\"\n",
    "car.stop() # Output: \"The vehicle is stopping\"\n",
    "\"\"\"\n",
    "In this example, Vehicle is the parent class, and Car is the child class that inherits from Vehicle.\n",
    "The Vehicle class has attributes for make, model, and year, as well as methods for start() and stop().\n",
    "The Car class inherits these attributes and methods from Vehicle, and also has its own attributes for num_doors, as well as methods for drive() and honk().\n",
    "When we create an instance of the Car class, we can access all of these attributes and methods, as well as those inherited from the Vehicle class.\n",
    "\"\"\"\n",
    "\n",
    "#2.)Multiple Inheritance: In this type of inheritance, a child class inherits from multiple parent classes.\n",
    "\n",
    "print(\"\\n\\n\\n\\n2.)Example of Multiple Inheritence\")\n",
    "class Flyable:\n",
    "    def fly(self):\n",
    "        print(\"I can fly\")\n",
    "        \n",
    "class Swimmable:\n",
    "    def swim(self):\n",
    "        print(\"I can swim\")\n",
    "        \n",
    "class Duck(Flyable, Swimmable):\n",
    "    pass\n",
    "        \n",
    "duck = Duck()\n",
    "duck.fly() # Output: \"I can fly\"\n",
    "duck.swim() # Output: \"I can swim\"\n",
    "\"\"\"\n",
    "In the above example, Duck class is derived from both Flyable and Swimmable classes using multiple inheritance.\n",
    "The Duck class inherits the fly() method from the Flyable class and the swim() method from the Swimmable class.\n",
    "\"\"\"\n",
    "\n",
    "#3.)Multilevel Inheritance: In this type of inheritance, a child class inherits from a parent class, which in turn, inherits from another parent class.\n",
    "print(\"\\n\\n\\n\\n3.)Example of Multilevel Inheritence\")\n",
    "class Animal:\n",
    "    def __init__(self, name):\n",
    "        self.name = name\n",
    "        \n",
    "    def speak(self):\n",
    "        print(f\"{self.name} speaks\")\n",
    "        \n",
    "class Dog(Animal):\n",
    "    def __init__(self, name):\n",
    "        super().__init__(name)\n",
    "        \n",
    "    def bark(self):\n",
    "        print(f\"{self.name} barks\")\n",
    "        \n",
    "class Bulldog(Dog):\n",
    "    def __init__(self, name):\n",
    "        super().__init__(name)\n",
    "        \n",
    "    def run(self):\n",
    "        print(f\"{self.name} runs\")\n",
    "        \n",
    "bulldog = Bulldog(\"Rocky\")\n",
    "bulldog.speak() # Output: \"Rocky speaks\"\n",
    "bulldog.bark() # Output: \"Rocky barks\"\n",
    "bulldog.run() # Output: \"Rocky runs\"\n",
    "\n",
    "\"\"\"\n",
    "In the above example, Bulldog class is derived from the Dog class, which in turn, is derived from the Animal class using multilevel inheritance.\n",
    "The Bulldog class inherits the speak() method from the Animal class, the bark() method from the Dog class, and also has its own run() method.\n",
    "\"\"\"\n",
    "\n",
    "#4.)Hierarchical Inheritance:-When more than one derived class are created from a single base this type of inheritance is called hierarchical inheritance. \n",
    "#In this program, we have a parent (base) class and two child (derived) classes.\n",
    "print(\"\\n\\n\\n\\n4.)Example of Hierarchical Inheritance\")\n",
    "class Vehicle:\n",
    "    def __init__(self, make, model, year):\n",
    "        self.make = make\n",
    "        self.model = model\n",
    "        self.year = year\n",
    "\n",
    "    def start(self):\n",
    "        print(\"The vehicle is starting\")\n",
    "\n",
    "    def stop(self):\n",
    "        print(\"The vehicle is stopping\")\n",
    "\n",
    "class Car(Vehicle):\n",
    "    def __init__(self, make, model, year, num_doors):\n",
    "        super().__init__(make, model, year)\n",
    "        self.num_doors = num_doors\n",
    "\n",
    "    def drive(self):\n",
    "        print(f\"The {self.make} {self.model} is driving\")\n",
    "\n",
    "    def honk(self):\n",
    "        print(f\"The {self.make} {self.model} is honking the horn\")\n",
    "\n",
    "class Truck(Vehicle):\n",
    "    def __init__(self, make, model, year, payload_capacity):\n",
    "        super().__init__(make, model, year)\n",
    "        self.payload_capacity = payload_capacity\n",
    "\n",
    "    def haul(self):\n",
    "        print(f\"The {self.make} {self.model} is hauling {self.payload_capacity} pounds\")\n",
    "\n",
    "car = Car(\"Toyota\", \"Camry\", 2021, 4)\n",
    "truck = Truck(\"Ford\", \"F-150\", 2021, 5000)\n",
    "\n",
    "car.start() # Output: \"The vehicle is starting\"\n",
    "car.drive() # Output: \"The Toyota Camry is driving\"\n",
    "car.honk() # Output: \"The Toyota Camry is honking the horn\"\n",
    "car.stop() # Output: \"The vehicle is stopping\"\n",
    "\n",
    "truck.start() # Output: \"The vehicle is starting\"\n",
    "truck.haul() # Output: \"The Ford F-150 is hauling 5000 pounds\"\n",
    "truck.stop() # Output: \"The vehicle is stopping\"\n",
    "\n",
    "#5.)Hybrid Inheritence:Hybrid Inheritance: Inheritance consisting of multiple types of inheritance is called hybrid inheritance.\n",
    "class School:\n",
    "    def func1(self):\n",
    "        print(\"This function is in school.\")\n",
    " \n",
    " \n",
    "class Student1(School):\n",
    "    def func2(self):\n",
    "        print(\"This function is in student 1. \")\n",
    " \n",
    " \n",
    "class Student2(School):\n",
    "    def func3(self):\n",
    "        print(\"This function is in student 2.\")\n",
    " \n",
    " \n",
    "class Student3(Student1, School):\n",
    "    def func4(self):\n",
    "        print(\"This function is in student 3.\")\n",
    " \n",
    " \n",
    "object = Student3()\n",
    "object.func1()\n",
    "object.func2()"
   ]
  },
  {
   "cell_type": "code",
   "execution_count": null,
   "id": "c4b97195-1ce9-469b-aed6-5d5a81ea9af7",
   "metadata": {},
   "outputs": [],
   "source": []
  }
 ],
 "metadata": {
  "kernelspec": {
   "display_name": "Python 3",
   "language": "python",
   "name": "python3"
  },
  "language_info": {
   "codemirror_mode": {
    "name": "ipython",
    "version": 3
   },
   "file_extension": ".py",
   "mimetype": "text/x-python",
   "name": "python",
   "nbconvert_exporter": "python",
   "pygments_lexer": "ipython3",
   "version": "3.9.0"
  },
  "vscode": {
   "interpreter": {
    "hash": "81794d4967e6c3204c66dcd87b604927b115b27c00565d3d43f05ba2f3a2cb0d"
   }
  }
 },
 "nbformat": 4,
 "nbformat_minor": 5
}
