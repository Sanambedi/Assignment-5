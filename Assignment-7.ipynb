{
 "cells": [
  {
   "cell_type": "code",
   "execution_count": 2,
   "id": "e136f35e-897d-4b3b-8067-6c266266ad1b",
   "metadata": {},
   "outputs": [
    {
     "name": "stdout",
     "output_type": "stream",
     "text": [
      "Approach-->1\n",
      " 0\n",
      "Approach-->2\n",
      " 4134711838987085478833841242112000\n"
     ]
    }
   ],
   "source": [
    "list1 = [1,2,3,4, [44,55,66, True], False, (34,56,78,89,34), {1,2,3,3,2,1}, {1:34, \"key2\": [55, 67, 78, 89], 4: (45,\n",
    "22, 61, 34)}, [56, 'data science'], 'Machine Learning']\n",
    "\n",
    "def filter_list(listing):\n",
    "    result = []\n",
    "    for i in listing:\n",
    "        if isinstance(i,(int,str)):\n",
    "            result.append(i)\n",
    "        elif(isinstance(i,(tuple,list,set))):\n",
    "            result.extend(filter_list(i))\n",
    "        elif(isinstance(i,(dict))):\n",
    "            for key, value in i.items():\n",
    "                if isinstance(key,(tuple,list,set,dict)):\n",
    "                    result.extend(filter_list(key))\n",
    "                elif isinstance(key,(int, str)):\n",
    "                    result.append(key)\n",
    "                if isinstance(value,(tuple,list,set,dict)):\n",
    "                    result.extend(filter_list(value))\n",
    "                elif isinstance(value,(int, str)):\n",
    "                    result.append(value)\n",
    "                    \n",
    "    return result\n",
    "pappu = filter_list(list1)\n",
    "tempu = 1\n",
    "for i in pappu:\n",
    "    if(isinstance(i,(int))) and i!=bool:\n",
    "        tempu = tempu*i\n",
    "print(\"Approach-->1\\n\",tempu)\n",
    "#####################################################\n",
    "tempu1 = 1\n",
    "for i in pappu:\n",
    "    if(isinstance(i,(int))) and i!=False:\n",
    "        tempu1 = tempu1*i\n",
    "print(\"Approach-->2\\n\",tempu1)\n",
    "    "
   ]
  },
  {
   "cell_type": "code",
   "execution_count": 2,
   "id": "83c7317d-079a-43fc-9e3a-2f8196cb00a0",
   "metadata": {},
   "outputs": [
    {
     "data": {
      "text/plain": [
       "'r dzmg gl yvxlnv z wzgz hxrvmgrhg.'"
      ]
     },
     "execution_count": 2,
     "metadata": {},
     "output_type": "execute_result"
    }
   ],
   "source": [
    "def encrypto(s):\n",
    "    s = s.lower()\n",
    "    l=[]\n",
    "    for i in s:\n",
    "        if ord(i)>=97 and ord(i)<=122:\n",
    "            n = ord(i)\n",
    "            n = 219 - n\n",
    "            l.append(chr(n))\n",
    "        else:\n",
    "            l.append(i)\n",
    "    str = \"\"\n",
    "    for i in l:\n",
    "        str = str + i\n",
    "    return str\n",
    "encrypto(\"I want to become a Data Scientist.\")"
   ]
  },
  {
   "cell_type": "code",
   "execution_count": null,
   "id": "eafb07a9-2d56-4f5d-91f7-1fd5ed8c23c7",
   "metadata": {},
   "outputs": [],
   "source": []
  }
 ],
 "metadata": {
  "kernelspec": {
   "display_name": "Python 3 (ipykernel)",
   "language": "python",
   "name": "python3"
  },
  "language_info": {
   "codemirror_mode": {
    "name": "ipython",
    "version": 3
   },
   "file_extension": ".py",
   "mimetype": "text/x-python",
   "name": "python",
   "nbconvert_exporter": "python",
   "pygments_lexer": "ipython3",
   "version": "3.10.8"
  }
 },
 "nbformat": 4,
 "nbformat_minor": 5
}
